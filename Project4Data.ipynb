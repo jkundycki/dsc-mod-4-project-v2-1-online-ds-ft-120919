{
  "nbformat": 4,
  "nbformat_minor": 0,
  "metadata": {
    "colab": {
      "name": "Project4Data.ipynb",
      "provenance": [],
      "collapsed_sections": []
    },
    "kernelspec": {
      "name": "python3",
      "display_name": "Python 3"
    }
  },
  "cells": [
    {
      "cell_type": "markdown",
      "metadata": {
        "id": "EI7hxX0J-j41",
        "colab_type": "text"
      },
      "source": [
        "# Project 4: Movie Recommendation System based on User Ratings"
      ]
    },
    {
      "cell_type": "markdown",
      "metadata": {
        "id": "CEEhRcvM-wOh",
        "colab_type": "text"
      },
      "source": [
        "Importing and Loading the Data:"
      ]
    },
    {
      "cell_type": "code",
      "metadata": {
        "id": "p-e4fzPk_EUz",
        "colab_type": "code",
        "colab": {}
      },
      "source": [
        "#Install PySpark Packages\n",
        "!apt-get install openjdk-8-jdk-headless -qq > /dev/null\n",
        "!wget -q https://downloads.apache.org/spark/spark-2.4.5/spark-2.4.5-bin-hadoop2.7.tgz\n",
        "!tar xf spark-2.4.5-bin-hadoop2.7.tgz\n",
        "!pip install -q findspark"
      ],
      "execution_count": 0,
      "outputs": []
    },
    {
      "cell_type": "code",
      "metadata": {
        "id": "mJSBVu_f_QMo",
        "colab_type": "code",
        "outputId": "0f09ecf4-fd3e-4eff-b8ed-43557df56b8d",
        "colab": {
          "base_uri": "https://localhost:8080/",
          "height": 71
        }
      },
      "source": [
        "#Import Libraries\n",
        "import numpy as np\n",
        "import pandas as pd\n",
        "\n",
        "#Import Libraries for Visualization\n",
        "import matplotlib.pyplot as plt\n",
        "%matplotlib inline\n",
        "import seaborn as sns\n",
        "plt.style.use('seaborn')\n",
        "\n",
        "#Import Warnings\n",
        "import warnings\n",
        "warnings.filterwarnings(\"ignore\")"
      ],
      "execution_count": 2,
      "outputs": [
        {
          "output_type": "stream",
          "text": [
            "/usr/local/lib/python3.6/dist-packages/statsmodels/tools/_testing.py:19: FutureWarning: pandas.util.testing is deprecated. Use the functions in the public API at pandas.testing instead.\n",
            "  import pandas.util.testing as tm\n"
          ],
          "name": "stderr"
        }
      ]
    },
    {
      "cell_type": "code",
      "metadata": {
        "id": "cd8FidLL-0gF",
        "colab_type": "code",
        "colab": {}
      },
      "source": [
        "#Import os for PySpark\n",
        "import os\n",
        "os.environ[\"JAVA_HOME\"] = \"/usr/lib/jvm/java-8-openjdk-amd64\"\n",
        "os.environ[\"SPARK_HOME\"] = \"/content/spark-2.4.5-bin-hadoop2.7\""
      ],
      "execution_count": 0,
      "outputs": []
    },
    {
      "cell_type": "code",
      "metadata": {
        "id": "lMpjXWGO-9Ac",
        "colab_type": "code",
        "colab": {}
      },
      "source": [
        "#Import PySpark\n",
        "import findspark\n",
        "findspark.init()\n",
        "from pyspark.sql import SparkSession\n",
        "\n",
        "#Instantiate the SparkSession Object\n",
        "spark = SparkSession\\\n",
        "        .builder\\\n",
        "        .appName('ALSExample').config('spark.driver.host', 'localhost')\\\n",
        "        .getOrCreate()"
      ],
      "execution_count": 0,
      "outputs": []
    },
    {
      "cell_type": "code",
      "metadata": {
        "id": "jBaQQbsG_Cid",
        "colab_type": "code",
        "colab": {}
      },
      "source": [
        "#Load the MovieLens Datasets into the PySpark DataFrame\n",
        "ratings = spark.read.csv('/content/ratings.csv', header='true', inferSchema='true')\n",
        "movies = spark.read.csv('/content/movies.csv', header='true', inferSchema='true')"
      ],
      "execution_count": 0,
      "outputs": []
    },
    {
      "cell_type": "code",
      "metadata": {
        "id": "_hzSnKP8DS9U",
        "colab_type": "code",
        "outputId": "78346608-367f-4cba-e18d-de88a0ad8eae",
        "colab": {
          "base_uri": "https://localhost:8080/",
          "height": 102
        }
      },
      "source": [
        "#Check columns for loaded csv files\n",
        "ratings.head(5)"
      ],
      "execution_count": 7,
      "outputs": [
        {
          "output_type": "execute_result",
          "data": {
            "text/plain": [
              "[Row(userId=1, movieId=1, rating=4.0, timestamp=964982703),\n",
              " Row(userId=1, movieId=3, rating=4.0, timestamp=964981247),\n",
              " Row(userId=1, movieId=6, rating=4.0, timestamp=964982224),\n",
              " Row(userId=1, movieId=47, rating=5.0, timestamp=964983815),\n",
              " Row(userId=1, movieId=50, rating=5.0, timestamp=964982931)]"
            ]
          },
          "metadata": {
            "tags": []
          },
          "execution_count": 7
        }
      ]
    },
    {
      "cell_type": "code",
      "metadata": {
        "id": "yFWrWk2cDniZ",
        "colab_type": "code",
        "outputId": "88554772-d297-42c1-871c-9057da737948",
        "colab": {
          "base_uri": "https://localhost:8080/",
          "height": 102
        }
      },
      "source": [
        "#Check columns for loaded csv files\n",
        "movies.head(5)"
      ],
      "execution_count": 8,
      "outputs": [
        {
          "output_type": "execute_result",
          "data": {
            "text/plain": [
              "[Row(movieId=1, title='Toy Story (1995)', genres='Adventure|Animation|Children|Comedy|Fantasy'),\n",
              " Row(movieId=2, title='Jumanji (1995)', genres='Adventure|Children|Fantasy'),\n",
              " Row(movieId=3, title='Grumpier Old Men (1995)', genres='Comedy|Romance'),\n",
              " Row(movieId=4, title='Waiting to Exhale (1995)', genres='Comedy|Drama|Romance'),\n",
              " Row(movieId=5, title='Father of the Bride Part II (1995)', genres='Comedy')]"
            ]
          },
          "metadata": {
            "tags": []
          },
          "execution_count": 8
        }
      ]
    },
    {
      "cell_type": "code",
      "metadata": {
        "id": "88ZFLncWDnk8",
        "colab_type": "code",
        "colab": {}
      },
      "source": [
        "#Drop Timestamp from ratings\n",
        "ratings = ratings.drop('timestamp')"
      ],
      "execution_count": 0,
      "outputs": []
    },
    {
      "cell_type": "markdown",
      "metadata": {
        "id": "oteH8ZKCd1YD",
        "colab_type": "text"
      },
      "source": [
        "### Preparing a Pandas df"
      ]
    },
    {
      "cell_type": "code",
      "metadata": {
        "id": "0MWuN4mtDnoQ",
        "colab_type": "code",
        "colab": {}
      },
      "source": [
        "moviesdf = pd.read_csv('movies.csv')\n",
        "ratingsdf = pd.read_csv('ratings.csv')"
      ],
      "execution_count": 0,
      "outputs": []
    },
    {
      "cell_type": "code",
      "metadata": {
        "id": "LW9qTMSMS4VY",
        "colab_type": "code",
        "outputId": "d6e0deb5-e809-40a3-f445-2bc2dbe099c9",
        "colab": {
          "base_uri": "https://localhost:8080/",
          "height": 111
        }
      },
      "source": [
        "moviesdf.head(2)"
      ],
      "execution_count": 11,
      "outputs": [
        {
          "output_type": "execute_result",
          "data": {
            "text/html": [
              "<div>\n",
              "<style scoped>\n",
              "    .dataframe tbody tr th:only-of-type {\n",
              "        vertical-align: middle;\n",
              "    }\n",
              "\n",
              "    .dataframe tbody tr th {\n",
              "        vertical-align: top;\n",
              "    }\n",
              "\n",
              "    .dataframe thead th {\n",
              "        text-align: right;\n",
              "    }\n",
              "</style>\n",
              "<table border=\"1\" class=\"dataframe\">\n",
              "  <thead>\n",
              "    <tr style=\"text-align: right;\">\n",
              "      <th></th>\n",
              "      <th>movieId</th>\n",
              "      <th>title</th>\n",
              "      <th>genres</th>\n",
              "    </tr>\n",
              "  </thead>\n",
              "  <tbody>\n",
              "    <tr>\n",
              "      <th>0</th>\n",
              "      <td>1</td>\n",
              "      <td>Toy Story (1995)</td>\n",
              "      <td>Adventure|Animation|Children|Comedy|Fantasy</td>\n",
              "    </tr>\n",
              "    <tr>\n",
              "      <th>1</th>\n",
              "      <td>2</td>\n",
              "      <td>Jumanji (1995)</td>\n",
              "      <td>Adventure|Children|Fantasy</td>\n",
              "    </tr>\n",
              "  </tbody>\n",
              "</table>\n",
              "</div>"
            ],
            "text/plain": [
              "   movieId             title                                       genres\n",
              "0        1  Toy Story (1995)  Adventure|Animation|Children|Comedy|Fantasy\n",
              "1        2    Jumanji (1995)                   Adventure|Children|Fantasy"
            ]
          },
          "metadata": {
            "tags": []
          },
          "execution_count": 11
        }
      ]
    },
    {
      "cell_type": "code",
      "metadata": {
        "id": "DeZmtBp0jlIu",
        "colab_type": "code",
        "outputId": "e79653f7-2622-4274-f207-ae2954f64089",
        "colab": {
          "base_uri": "https://localhost:8080/",
          "height": 111
        }
      },
      "source": [
        "ratingsdf.head(2)"
      ],
      "execution_count": 12,
      "outputs": [
        {
          "output_type": "execute_result",
          "data": {
            "text/html": [
              "<div>\n",
              "<style scoped>\n",
              "    .dataframe tbody tr th:only-of-type {\n",
              "        vertical-align: middle;\n",
              "    }\n",
              "\n",
              "    .dataframe tbody tr th {\n",
              "        vertical-align: top;\n",
              "    }\n",
              "\n",
              "    .dataframe thead th {\n",
              "        text-align: right;\n",
              "    }\n",
              "</style>\n",
              "<table border=\"1\" class=\"dataframe\">\n",
              "  <thead>\n",
              "    <tr style=\"text-align: right;\">\n",
              "      <th></th>\n",
              "      <th>userId</th>\n",
              "      <th>movieId</th>\n",
              "      <th>rating</th>\n",
              "      <th>timestamp</th>\n",
              "    </tr>\n",
              "  </thead>\n",
              "  <tbody>\n",
              "    <tr>\n",
              "      <th>0</th>\n",
              "      <td>1</td>\n",
              "      <td>1</td>\n",
              "      <td>4.0</td>\n",
              "      <td>964982703</td>\n",
              "    </tr>\n",
              "    <tr>\n",
              "      <th>1</th>\n",
              "      <td>1</td>\n",
              "      <td>3</td>\n",
              "      <td>4.0</td>\n",
              "      <td>964981247</td>\n",
              "    </tr>\n",
              "  </tbody>\n",
              "</table>\n",
              "</div>"
            ],
            "text/plain": [
              "   userId  movieId  rating  timestamp\n",
              "0       1        1     4.0  964982703\n",
              "1       1        3     4.0  964981247"
            ]
          },
          "metadata": {
            "tags": []
          },
          "execution_count": 12
        }
      ]
    },
    {
      "cell_type": "code",
      "metadata": {
        "id": "k32YGHOXS4d8",
        "colab_type": "code",
        "colab": {}
      },
      "source": [
        "#Merge Ratings and Movies on movieId\n",
        "merged_df = pd.merge(moviesdf,ratingsdf, on=['movieId'])"
      ],
      "execution_count": 0,
      "outputs": []
    },
    {
      "cell_type": "code",
      "metadata": {
        "id": "P2-UOrnDS4ra",
        "colab_type": "code",
        "colab": {}
      },
      "source": [
        "#Drop timestamp column\n",
        "merged_df = merged_df.drop(columns='timestamp')"
      ],
      "execution_count": 0,
      "outputs": []
    },
    {
      "cell_type": "code",
      "metadata": {
        "id": "Z69mFOkES4ky",
        "colab_type": "code",
        "outputId": "cd9322c6-58ab-4002-9527-a7d172eb03e8",
        "colab": {
          "base_uri": "https://localhost:8080/",
          "height": 221
        }
      },
      "source": [
        "print(merged_df.shape)\n",
        "merged_df.head()"
      ],
      "execution_count": 15,
      "outputs": [
        {
          "output_type": "stream",
          "text": [
            "(100836, 5)\n"
          ],
          "name": "stdout"
        },
        {
          "output_type": "execute_result",
          "data": {
            "text/html": [
              "<div>\n",
              "<style scoped>\n",
              "    .dataframe tbody tr th:only-of-type {\n",
              "        vertical-align: middle;\n",
              "    }\n",
              "\n",
              "    .dataframe tbody tr th {\n",
              "        vertical-align: top;\n",
              "    }\n",
              "\n",
              "    .dataframe thead th {\n",
              "        text-align: right;\n",
              "    }\n",
              "</style>\n",
              "<table border=\"1\" class=\"dataframe\">\n",
              "  <thead>\n",
              "    <tr style=\"text-align: right;\">\n",
              "      <th></th>\n",
              "      <th>movieId</th>\n",
              "      <th>title</th>\n",
              "      <th>genres</th>\n",
              "      <th>userId</th>\n",
              "      <th>rating</th>\n",
              "    </tr>\n",
              "  </thead>\n",
              "  <tbody>\n",
              "    <tr>\n",
              "      <th>0</th>\n",
              "      <td>1</td>\n",
              "      <td>Toy Story (1995)</td>\n",
              "      <td>Adventure|Animation|Children|Comedy|Fantasy</td>\n",
              "      <td>1</td>\n",
              "      <td>4.0</td>\n",
              "    </tr>\n",
              "    <tr>\n",
              "      <th>1</th>\n",
              "      <td>1</td>\n",
              "      <td>Toy Story (1995)</td>\n",
              "      <td>Adventure|Animation|Children|Comedy|Fantasy</td>\n",
              "      <td>5</td>\n",
              "      <td>4.0</td>\n",
              "    </tr>\n",
              "    <tr>\n",
              "      <th>2</th>\n",
              "      <td>1</td>\n",
              "      <td>Toy Story (1995)</td>\n",
              "      <td>Adventure|Animation|Children|Comedy|Fantasy</td>\n",
              "      <td>7</td>\n",
              "      <td>4.5</td>\n",
              "    </tr>\n",
              "    <tr>\n",
              "      <th>3</th>\n",
              "      <td>1</td>\n",
              "      <td>Toy Story (1995)</td>\n",
              "      <td>Adventure|Animation|Children|Comedy|Fantasy</td>\n",
              "      <td>15</td>\n",
              "      <td>2.5</td>\n",
              "    </tr>\n",
              "    <tr>\n",
              "      <th>4</th>\n",
              "      <td>1</td>\n",
              "      <td>Toy Story (1995)</td>\n",
              "      <td>Adventure|Animation|Children|Comedy|Fantasy</td>\n",
              "      <td>17</td>\n",
              "      <td>4.5</td>\n",
              "    </tr>\n",
              "  </tbody>\n",
              "</table>\n",
              "</div>"
            ],
            "text/plain": [
              "   movieId             title  ... userId  rating\n",
              "0        1  Toy Story (1995)  ...      1     4.0\n",
              "1        1  Toy Story (1995)  ...      5     4.0\n",
              "2        1  Toy Story (1995)  ...      7     4.5\n",
              "3        1  Toy Story (1995)  ...     15     2.5\n",
              "4        1  Toy Story (1995)  ...     17     4.5\n",
              "\n",
              "[5 rows x 5 columns]"
            ]
          },
          "metadata": {
            "tags": []
          },
          "execution_count": 15
        }
      ]
    },
    {
      "cell_type": "markdown",
      "metadata": {
        "id": "xt-SOY2lb88_",
        "colab_type": "text"
      },
      "source": [
        "## Exploring the Data"
      ]
    },
    {
      "cell_type": "markdown",
      "metadata": {
        "id": "_k8mHoJPe4oM",
        "colab_type": "text"
      },
      "source": [
        "### Question 1: What are the average User Ratings?"
      ]
    },
    {
      "cell_type": "code",
      "metadata": {
        "id": "CjBV9dKti71c",
        "colab_type": "code",
        "colab": {}
      },
      "source": [
        "rating_counts = merged_df['rating'].value_counts()\n",
        "sorted_counts = {k: v for k, v in sorted(rating_counts.items(), key=lambda item: item[1])}\n",
        "sorted_count = list(sorted_counts.items())\n",
        "cy = [item[1] for item in sorted_count]\n",
        "cx = [item[0] for item in sorted_count]"
      ],
      "execution_count": 0,
      "outputs": []
    },
    {
      "cell_type": "code",
      "metadata": {
        "id": "RBtGJPdjd5ki",
        "colab_type": "code",
        "outputId": "84f15ba9-8bde-4720-9026-b99a0615f55e",
        "colab": {
          "base_uri": "https://localhost:8080/",
          "height": 707
        }
      },
      "source": [
        "plt.figure(figsize=(13,8))\n",
        "sns.barplot(x=cx, y=cy)\n",
        "plt.title('User Rating Counts', fontweight='bold', fontsize=18)\n",
        "plt.xlabel('User Ratings',fontsize=14)\n",
        "plt.ylabel('Value Counts')\n",
        "plt.show()\n",
        "print(merged_df['rating'].value_counts(normalize=True))"
      ],
      "execution_count": 17,
      "outputs": [
        {
          "output_type": "display_data",
          "data": {
            "image/png": "[encoded data removed]",
            "text/plain": [
              "<Figure size 936x576 with 1 Axes>"
            ]
          },
          "metadata": {
            "tags": []
          }
        },
        {
          "output_type": "stream",
          "text": [
            "4.0    0.265957\n",
            "3.0    0.198808\n",
            "5.0    0.131015\n",
            "3.5    0.130271\n",
            "4.5    0.084801\n",
            "2.0    0.074884\n",
            "2.5    0.055040\n",
            "1.0    0.027877\n",
            "1.5    0.017762\n",
            "0.5    0.013586\n",
            "Name: rating, dtype: float64\n"
          ],
          "name": "stdout"
        }
      ]
    },
    {
      "cell_type": "markdown",
      "metadata": {
        "id": "tLTGsBOqr3eu",
        "colab_type": "text"
      },
      "source": [
        "Users seem to tend to rate movies at least a 3 or above most of the time."
      ]
    },
    {
      "cell_type": "markdown",
      "metadata": {
        "id": "NnSE9_9psMZl",
        "colab_type": "text"
      },
      "source": [
        "### Question 2: Which Genres tend to get highest ratings?"
      ]
    },
    {
      "cell_type": "code",
      "metadata": {
        "id": "XnZgnER3d5oA",
        "colab_type": "code",
        "outputId": "5e38549a-18f8-436a-db80-9290f19fabaf",
        "colab": {
          "base_uri": "https://localhost:8080/",
          "height": 221
        }
      },
      "source": [
        "merged_df['genres'].value_counts()"
      ],
      "execution_count": 18,
      "outputs": [
        {
          "output_type": "execute_result",
          "data": {
            "text/plain": [
              "Comedy                                       7196\n",
              "Drama                                        6291\n",
              "Comedy|Romance                               3967\n",
              "Comedy|Drama|Romance                         3000\n",
              "Comedy|Drama                                 2851\n",
              "                                             ... \n",
              "Action|Animation|Comedy|Horror|Thriller         1\n",
              "Action|Adventure|Drama|Fantasy|Romance          1\n",
              "Animation|Children|Comedy|Fantasy|Musical       1\n",
              "Animation|Comedy|Drama|Romance                  1\n",
              "Adventure|Animation|Fantasy|Horror|Sci-Fi       1\n",
              "Name: genres, Length: 951, dtype: int64"
            ]
          },
          "metadata": {
            "tags": []
          },
          "execution_count": 18
        }
      ]
    },
    {
      "cell_type": "code",
      "metadata": {
        "id": "tMI6CA6fd5ql",
        "colab_type": "code",
        "outputId": "11ede737-b3cf-4cab-e29c-153563f4ff95",
        "colab": {
          "base_uri": "https://localhost:8080/",
          "height": 204
        }
      },
      "source": [
        "#Many movie have genre grouping, they will need to be separated and classified to identify each individual genre\n",
        "merged_df['genres'] = merged_df['genres'].apply(lambda x: x.split(\"|\") if x else x)\n",
        "merged_df.head()"
      ],
      "execution_count": 19,
      "outputs": [
        {
          "output_type": "execute_result",
          "data": {
            "text/html": [
              "<div>\n",
              "<style scoped>\n",
              "    .dataframe tbody tr th:only-of-type {\n",
              "        vertical-align: middle;\n",
              "    }\n",
              "\n",
              "    .dataframe tbody tr th {\n",
              "        vertical-align: top;\n",
              "    }\n",
              "\n",
              "    .dataframe thead th {\n",
              "        text-align: right;\n",
              "    }\n",
              "</style>\n",
              "<table border=\"1\" class=\"dataframe\">\n",
              "  <thead>\n",
              "    <tr style=\"text-align: right;\">\n",
              "      <th></th>\n",
              "      <th>movieId</th>\n",
              "      <th>title</th>\n",
              "      <th>genres</th>\n",
              "      <th>userId</th>\n",
              "      <th>rating</th>\n",
              "    </tr>\n",
              "  </thead>\n",
              "  <tbody>\n",
              "    <tr>\n",
              "      <th>0</th>\n",
              "      <td>1</td>\n",
              "      <td>Toy Story (1995)</td>\n",
              "      <td>[Adventure, Animation, Children, Comedy, Fantasy]</td>\n",
              "      <td>1</td>\n",
              "      <td>4.0</td>\n",
              "    </tr>\n",
              "    <tr>\n",
              "      <th>1</th>\n",
              "      <td>1</td>\n",
              "      <td>Toy Story (1995)</td>\n",
              "      <td>[Adventure, Animation, Children, Comedy, Fantasy]</td>\n",
              "      <td>5</td>\n",
              "      <td>4.0</td>\n",
              "    </tr>\n",
              "    <tr>\n",
              "      <th>2</th>\n",
              "      <td>1</td>\n",
              "      <td>Toy Story (1995)</td>\n",
              "      <td>[Adventure, Animation, Children, Comedy, Fantasy]</td>\n",
              "      <td>7</td>\n",
              "      <td>4.5</td>\n",
              "    </tr>\n",
              "    <tr>\n",
              "      <th>3</th>\n",
              "      <td>1</td>\n",
              "      <td>Toy Story (1995)</td>\n",
              "      <td>[Adventure, Animation, Children, Comedy, Fantasy]</td>\n",
              "      <td>15</td>\n",
              "      <td>2.5</td>\n",
              "    </tr>\n",
              "    <tr>\n",
              "      <th>4</th>\n",
              "      <td>1</td>\n",
              "      <td>Toy Story (1995)</td>\n",
              "      <td>[Adventure, Animation, Children, Comedy, Fantasy]</td>\n",
              "      <td>17</td>\n",
              "      <td>4.5</td>\n",
              "    </tr>\n",
              "  </tbody>\n",
              "</table>\n",
              "</div>"
            ],
            "text/plain": [
              "   movieId             title  ... userId  rating\n",
              "0        1  Toy Story (1995)  ...      1     4.0\n",
              "1        1  Toy Story (1995)  ...      5     4.0\n",
              "2        1  Toy Story (1995)  ...      7     4.5\n",
              "3        1  Toy Story (1995)  ...     15     2.5\n",
              "4        1  Toy Story (1995)  ...     17     4.5\n",
              "\n",
              "[5 rows x 5 columns]"
            ]
          },
          "metadata": {
            "tags": []
          },
          "execution_count": 19
        }
      ]
    },
    {
      "cell_type": "code",
      "metadata": {
        "id": "XXr65sFMd5wr",
        "colab_type": "code",
        "colab": {}
      },
      "source": [
        "all_genres = set()\n",
        "for genres in merged_df['genres']:\n",
        "    if genres:\n",
        "        all_genres.update(genres)"
      ],
      "execution_count": 0,
      "outputs": []
    },
    {
      "cell_type": "code",
      "metadata": {
        "id": "3C6BhJJfd5z-",
        "colab_type": "code",
        "outputId": "0746e4d8-3bbd-4e35-f6ce-d588942dd1e6",
        "colab": {
          "base_uri": "https://localhost:8080/",
          "height": 357
        }
      },
      "source": [
        "all_genres"
      ],
      "execution_count": 21,
      "outputs": [
        {
          "output_type": "execute_result",
          "data": {
            "text/plain": [
              "{'(no genres listed)',\n",
              " 'Action',\n",
              " 'Adventure',\n",
              " 'Animation',\n",
              " 'Children',\n",
              " 'Comedy',\n",
              " 'Crime',\n",
              " 'Documentary',\n",
              " 'Drama',\n",
              " 'Fantasy',\n",
              " 'Film-Noir',\n",
              " 'Horror',\n",
              " 'IMAX',\n",
              " 'Musical',\n",
              " 'Mystery',\n",
              " 'Romance',\n",
              " 'Sci-Fi',\n",
              " 'Thriller',\n",
              " 'War',\n",
              " 'Western'}"
            ]
          },
          "metadata": {
            "tags": []
          },
          "execution_count": 21
        }
      ]
    },
    {
      "cell_type": "code",
      "metadata": {
        "id": "52fIXy5wd5uz",
        "colab_type": "code",
        "colab": {}
      },
      "source": [
        "#Prepare genre columns for genre counts\n",
        "for genre in all_genres:\n",
        "  merged_df[genre] = np.zeros(shape=merged_df.shape[0])"
      ],
      "execution_count": 0,
      "outputs": []
    },
    {
      "cell_type": "code",
      "metadata": {
        "id": "sjVGU1yXd5tH",
        "colab_type": "code",
        "outputId": "23e3851d-1c90-468c-d751-df5bde69d6ae",
        "colab": {
          "base_uri": "https://localhost:8080/",
          "height": 598
        }
      },
      "source": [
        "#Iterate through the movies and update the genre columns to 1 if the movie contains that genre\n",
        "for index, row in merged_df.iterrows():\n",
        "    if row['genres']:\n",
        "        for genre in row['genres']:\n",
        "            merged_df.loc[index, genre] = 1\n",
        "merged_df.head()"
      ],
      "execution_count": 23,
      "outputs": [
        {
          "output_type": "execute_result",
          "data": {
            "text/html": [
              "<div>\n",
              "<style scoped>\n",
              "    .dataframe tbody tr th:only-of-type {\n",
              "        vertical-align: middle;\n",
              "    }\n",
              "\n",
              "    .dataframe tbody tr th {\n",
              "        vertical-align: top;\n",
              "    }\n",
              "\n",
              "    .dataframe thead th {\n",
              "        text-align: right;\n",
              "    }\n",
              "</style>\n",
              "<table border=\"1\" class=\"dataframe\">\n",
              "  <thead>\n",
              "    <tr style=\"text-align: right;\">\n",
              "      <th></th>\n",
              "      <th>movieId</th>\n",
              "      <th>title</th>\n",
              "      <th>genres</th>\n",
              "      <th>userId</th>\n",
              "      <th>rating</th>\n",
              "      <th>Western</th>\n",
              "      <th>Crime</th>\n",
              "      <th>Adventure</th>\n",
              "      <th>War</th>\n",
              "      <th>(no genres listed)</th>\n",
              "      <th>Fantasy</th>\n",
              "      <th>Musical</th>\n",
              "      <th>Romance</th>\n",
              "      <th>Sci-Fi</th>\n",
              "      <th>Animation</th>\n",
              "      <th>Children</th>\n",
              "      <th>Horror</th>\n",
              "      <th>Comedy</th>\n",
              "      <th>Thriller</th>\n",
              "      <th>Documentary</th>\n",
              "      <th>Mystery</th>\n",
              "      <th>Drama</th>\n",
              "      <th>Film-Noir</th>\n",
              "      <th>IMAX</th>\n",
              "      <th>Action</th>\n",
              "    </tr>\n",
              "  </thead>\n",
              "  <tbody>\n",
              "    <tr>\n",
              "      <th>0</th>\n",
              "      <td>1</td>\n",
              "      <td>Toy Story (1995)</td>\n",
              "      <td>[Adventure, Animation, Children, Comedy, Fantasy]</td>\n",
              "      <td>1</td>\n",
              "      <td>4.0</td>\n",
              "      <td>0.0</td>\n",
              "      <td>0.0</td>\n",
              "      <td>1.0</td>\n",
              "      <td>0.0</td>\n",
              "      <td>0.0</td>\n",
              "      <td>1.0</td>\n",
              "      <td>0.0</td>\n",
              "      <td>0.0</td>\n",
              "      <td>0.0</td>\n",
              "      <td>1.0</td>\n",
              "      <td>1.0</td>\n",
              "      <td>0.0</td>\n",
              "      <td>1.0</td>\n",
              "      <td>0.0</td>\n",
              "      <td>0.0</td>\n",
              "      <td>0.0</td>\n",
              "      <td>0.0</td>\n",
              "      <td>0.0</td>\n",
              "      <td>0.0</td>\n",
              "      <td>0.0</td>\n",
              "    </tr>\n",
              "    <tr>\n",
              "      <th>1</th>\n",
              "      <td>1</td>\n",
              "      <td>Toy Story (1995)</td>\n",
              "      <td>[Adventure, Animation, Children, Comedy, Fantasy]</td>\n",
              "      <td>5</td>\n",
              "      <td>4.0</td>\n",
              "      <td>0.0</td>\n",
              "      <td>0.0</td>\n",
              "      <td>1.0</td>\n",
              "      <td>0.0</td>\n",
              "      <td>0.0</td>\n",
              "      <td>1.0</td>\n",
              "      <td>0.0</td>\n",
              "      <td>0.0</td>\n",
              "      <td>0.0</td>\n",
              "      <td>1.0</td>\n",
              "      <td>1.0</td>\n",
              "      <td>0.0</td>\n",
              "      <td>1.0</td>\n",
              "      <td>0.0</td>\n",
              "      <td>0.0</td>\n",
              "      <td>0.0</td>\n",
              "      <td>0.0</td>\n",
              "      <td>0.0</td>\n",
              "      <td>0.0</td>\n",
              "      <td>0.0</td>\n",
              "    </tr>\n",
              "    <tr>\n",
              "      <th>2</th>\n",
              "      <td>1</td>\n",
              "      <td>Toy Story (1995)</td>\n",
              "      <td>[Adventure, Animation, Children, Comedy, Fantasy]</td>\n",
              "      <td>7</td>\n",
              "      <td>4.5</td>\n",
              "      <td>0.0</td>\n",
              "      <td>0.0</td>\n",
              "      <td>1.0</td>\n",
              "      <td>0.0</td>\n",
              "      <td>0.0</td>\n",
              "      <td>1.0</td>\n",
              "      <td>0.0</td>\n",
              "      <td>0.0</td>\n",
              "      <td>0.0</td>\n",
              "      <td>1.0</td>\n",
              "      <td>1.0</td>\n",
              "      <td>0.0</td>\n",
              "      <td>1.0</td>\n",
              "      <td>0.0</td>\n",
              "      <td>0.0</td>\n",
              "      <td>0.0</td>\n",
              "      <td>0.0</td>\n",
              "      <td>0.0</td>\n",
              "      <td>0.0</td>\n",
              "      <td>0.0</td>\n",
              "    </tr>\n",
              "    <tr>\n",
              "      <th>3</th>\n",
              "      <td>1</td>\n",
              "      <td>Toy Story (1995)</td>\n",
              "      <td>[Adventure, Animation, Children, Comedy, Fantasy]</td>\n",
              "      <td>15</td>\n",
              "      <td>2.5</td>\n",
              "      <td>0.0</td>\n",
              "      <td>0.0</td>\n",
              "      <td>1.0</td>\n",
              "      <td>0.0</td>\n",
              "      <td>0.0</td>\n",
              "      <td>1.0</td>\n",
              "      <td>0.0</td>\n",
              "      <td>0.0</td>\n",
              "      <td>0.0</td>\n",
              "      <td>1.0</td>\n",
              "      <td>1.0</td>\n",
              "      <td>0.0</td>\n",
              "      <td>1.0</td>\n",
              "      <td>0.0</td>\n",
              "      <td>0.0</td>\n",
              "      <td>0.0</td>\n",
              "      <td>0.0</td>\n",
              "      <td>0.0</td>\n",
              "      <td>0.0</td>\n",
              "      <td>0.0</td>\n",
              "    </tr>\n",
              "    <tr>\n",
              "      <th>4</th>\n",
              "      <td>1</td>\n",
              "      <td>Toy Story (1995)</td>\n",
              "      <td>[Adventure, Animation, Children, Comedy, Fantasy]</td>\n",
              "      <td>17</td>\n",
              "      <td>4.5</td>\n",
              "      <td>0.0</td>\n",
              "      <td>0.0</td>\n",
              "      <td>1.0</td>\n",
              "      <td>0.0</td>\n",
              "      <td>0.0</td>\n",
              "      <td>1.0</td>\n",
              "      <td>0.0</td>\n",
              "      <td>0.0</td>\n",
              "      <td>0.0</td>\n",
              "      <td>1.0</td>\n",
              "      <td>1.0</td>\n",
              "      <td>0.0</td>\n",
              "      <td>1.0</td>\n",
              "      <td>0.0</td>\n",
              "      <td>0.0</td>\n",
              "      <td>0.0</td>\n",
              "      <td>0.0</td>\n",
              "      <td>0.0</td>\n",
              "      <td>0.0</td>\n",
              "      <td>0.0</td>\n",
              "    </tr>\n",
              "  </tbody>\n",
              "</table>\n",
              "</div>"
            ],
            "text/plain": [
              "   movieId             title  ... IMAX  Action\n",
              "0        1  Toy Story (1995)  ...  0.0     0.0\n",
              "1        1  Toy Story (1995)  ...  0.0     0.0\n",
              "2        1  Toy Story (1995)  ...  0.0     0.0\n",
              "3        1  Toy Story (1995)  ...  0.0     0.0\n",
              "4        1  Toy Story (1995)  ...  0.0     0.0\n",
              "\n",
              "[5 rows x 25 columns]"
            ]
          },
          "metadata": {
            "tags": []
          },
          "execution_count": 23
        }
      ]
    },
    {
      "cell_type": "code",
      "metadata": {
        "id": "iuLW4_lgYgFf",
        "colab_type": "code",
        "outputId": "697eee53-5113-4c70-e883-084385d781fb",
        "colab": {
          "base_uri": "https://localhost:8080/",
          "height": 204
        }
      },
      "source": [
        "titles = pd.DataFrame([])\n",
        "titles['title'] = moviesdf['title']\n",
        "titles.head()"
      ],
      "execution_count": 24,
      "outputs": [
        {
          "output_type": "execute_result",
          "data": {
            "text/html": [
              "<div>\n",
              "<style scoped>\n",
              "    .dataframe tbody tr th:only-of-type {\n",
              "        vertical-align: middle;\n",
              "    }\n",
              "\n",
              "    .dataframe tbody tr th {\n",
              "        vertical-align: top;\n",
              "    }\n",
              "\n",
              "    .dataframe thead th {\n",
              "        text-align: right;\n",
              "    }\n",
              "</style>\n",
              "<table border=\"1\" class=\"dataframe\">\n",
              "  <thead>\n",
              "    <tr style=\"text-align: right;\">\n",
              "      <th></th>\n",
              "      <th>title</th>\n",
              "    </tr>\n",
              "  </thead>\n",
              "  <tbody>\n",
              "    <tr>\n",
              "      <th>0</th>\n",
              "      <td>Toy Story (1995)</td>\n",
              "    </tr>\n",
              "    <tr>\n",
              "      <th>1</th>\n",
              "      <td>Jumanji (1995)</td>\n",
              "    </tr>\n",
              "    <tr>\n",
              "      <th>2</th>\n",
              "      <td>Grumpier Old Men (1995)</td>\n",
              "    </tr>\n",
              "    <tr>\n",
              "      <th>3</th>\n",
              "      <td>Waiting to Exhale (1995)</td>\n",
              "    </tr>\n",
              "    <tr>\n",
              "      <th>4</th>\n",
              "      <td>Father of the Bride Part II (1995)</td>\n",
              "    </tr>\n",
              "  </tbody>\n",
              "</table>\n",
              "</div>"
            ],
            "text/plain": [
              "                                title\n",
              "0                    Toy Story (1995)\n",
              "1                      Jumanji (1995)\n",
              "2             Grumpier Old Men (1995)\n",
              "3            Waiting to Exhale (1995)\n",
              "4  Father of the Bride Part II (1995)"
            ]
          },
          "metadata": {
            "tags": []
          },
          "execution_count": 24
        }
      ]
    },
    {
      "cell_type": "code",
      "metadata": {
        "id": "LBYZoQEsS20Z",
        "colab_type": "code",
        "outputId": "ad685b3f-b018-43c0-87a1-dbd65da85844",
        "colab": {
          "base_uri": "https://localhost:8080/",
          "height": 1000
        }
      },
      "source": [
        "for genre in all_genres:\n",
        "  print(genre)\n",
        "  print(merged_df.loc[merged_df[genre]==1, ['rating']].mean())"
      ],
      "execution_count": 25,
      "outputs": [
        {
          "output_type": "stream",
          "text": [
            "Western\n",
            "rating    3.583938\n",
            "dtype: float64\n",
            "Crime\n",
            "rating    3.658294\n",
            "dtype: float64\n",
            "Adventure\n",
            "rating    3.508609\n",
            "dtype: float64\n",
            "War\n",
            "rating    3.808294\n",
            "dtype: float64\n",
            "(no genres listed)\n",
            "rating    3.489362\n",
            "dtype: float64\n",
            "Fantasy\n",
            "rating    3.491001\n",
            "dtype: float64\n",
            "Musical\n",
            "rating    3.563678\n",
            "dtype: float64\n",
            "Romance\n",
            "rating    3.506511\n",
            "dtype: float64\n",
            "Sci-Fi\n",
            "rating    3.455721\n",
            "dtype: float64\n",
            "Animation\n",
            "rating    3.629937\n",
            "dtype: float64\n",
            "Children\n",
            "rating    3.412956\n",
            "dtype: float64\n",
            "Horror\n",
            "rating    3.258195\n",
            "dtype: float64\n",
            "Comedy\n",
            "rating    3.384721\n",
            "dtype: float64\n",
            "Thriller\n",
            "rating    3.493706\n",
            "dtype: float64\n",
            "Documentary\n",
            "rating    3.797785\n",
            "dtype: float64\n",
            "Mystery\n",
            "rating    3.63246\n",
            "dtype: float64\n",
            "Drama\n",
            "rating    3.656184\n",
            "dtype: float64\n",
            "Film-Noir\n",
            "rating    3.920115\n",
            "dtype: float64\n",
            "IMAX\n",
            "rating    3.618335\n",
            "dtype: float64\n",
            "Action\n",
            "rating    3.447984\n",
            "dtype: float64\n"
          ],
          "name": "stdout"
        }
      ]
    },
    {
      "cell_type": "code",
      "metadata": {
        "id": "MV3tighWgc3o",
        "colab_type": "code",
        "outputId": "f5067415-096d-45c8-e90b-ef6a13470d78",
        "colab": {
          "base_uri": "https://localhost:8080/",
          "height": 374
        }
      },
      "source": [
        "genre_rating = []\n",
        "genres = []\n",
        "for genre in all_genres:\n",
        "    genres.append(genre)\n",
        "    genre_rating.append(merged_df.loc[merged_df[genre]==1, ['rating']].mean())\n",
        "genre_rating"
      ],
      "execution_count": 26,
      "outputs": [
        {
          "output_type": "execute_result",
          "data": {
            "text/plain": [
              "[rating    3.583938\n",
              " dtype: float64, rating    3.658294\n",
              " dtype: float64, rating    3.508609\n",
              " dtype: float64, rating    3.808294\n",
              " dtype: float64, rating    3.489362\n",
              " dtype: float64, rating    3.491001\n",
              " dtype: float64, rating    3.563678\n",
              " dtype: float64, rating    3.506511\n",
              " dtype: float64, rating    3.455721\n",
              " dtype: float64, rating    3.629937\n",
              " dtype: float64, rating    3.412956\n",
              " dtype: float64, rating    3.258195\n",
              " dtype: float64, rating    3.384721\n",
              " dtype: float64, rating    3.493706\n",
              " dtype: float64, rating    3.797785\n",
              " dtype: float64, rating    3.63246\n",
              " dtype: float64, rating    3.656184\n",
              " dtype: float64, rating    3.920115\n",
              " dtype: float64, rating    3.618335\n",
              " dtype: float64, rating    3.447984\n",
              " dtype: float64]"
            ]
          },
          "metadata": {
            "tags": []
          },
          "execution_count": 26
        }
      ]
    },
    {
      "cell_type": "code",
      "metadata": {
        "id": "EMWSzMeJiIyR",
        "colab_type": "code",
        "outputId": "91e631ab-fa71-425e-95d6-56d193506237",
        "colab": {
          "base_uri": "https://localhost:8080/",
          "height": 561
        }
      },
      "source": [
        "plt.figure(figsize=(21,13))\n",
        "sns.barplot(x=genres, y=genre_rating)\n",
        "plt.title('Average Rating by Genre', fontweight='bold', fontsize=18)\n",
        "plt.xlabel('Genre',fontsize=14)\n",
        "plt.ylabel('Average Rating')\n",
        "plt.show()"
      ],
      "execution_count": 27,
      "outputs": [
        {
          "output_type": "display_data",
          "data": {
            "image/png": "[encoded data removed]",
            "text/plain": [
              "<Figure size 1512x936 with 1 Axes>"
            ]
          },
          "metadata": {
            "tags": []
          }
        }
      ]
    },
    {
      "cell_type": "markdown",
      "metadata": {
        "id": "F038ShbhZBob",
        "colab_type": "text"
      },
      "source": [
        "### Question 3: Which Movies are the Highest Rated?"
      ]
    },
    {
      "cell_type": "code",
      "metadata": {
        "id": "xF7jUG-JDnui",
        "colab_type": "code",
        "outputId": "9ff67db3-5a59-4e6e-8265-465a6bf41a0d",
        "colab": {
          "base_uri": "https://localhost:8080/",
          "height": 51
        }
      },
      "source": [
        "print(merged_df.loc[merged_df[genre]==1, ['rating']].mean())"
      ],
      "execution_count": 28,
      "outputs": [
        {
          "output_type": "stream",
          "text": [
            "rating    3.447984\n",
            "dtype: float64\n"
          ],
          "name": "stdout"
        }
      ]
    },
    {
      "cell_type": "code",
      "metadata": {
        "id": "jrBtPTl3W36R",
        "colab_type": "code",
        "outputId": "e614da33-716a-449c-b9a6-dc202871f3b4",
        "colab": {
          "base_uri": "https://localhost:8080/",
          "height": 235
        }
      },
      "source": [
        "mratings = pd.DataFrame(merged_df.groupby('title')['rating'].mean())\n",
        "mratings.head()"
      ],
      "execution_count": 29,
      "outputs": [
        {
          "output_type": "execute_result",
          "data": {
            "text/html": [
              "<div>\n",
              "<style scoped>\n",
              "    .dataframe tbody tr th:only-of-type {\n",
              "        vertical-align: middle;\n",
              "    }\n",
              "\n",
              "    .dataframe tbody tr th {\n",
              "        vertical-align: top;\n",
              "    }\n",
              "\n",
              "    .dataframe thead th {\n",
              "        text-align: right;\n",
              "    }\n",
              "</style>\n",
              "<table border=\"1\" class=\"dataframe\">\n",
              "  <thead>\n",
              "    <tr style=\"text-align: right;\">\n",
              "      <th></th>\n",
              "      <th>rating</th>\n",
              "    </tr>\n",
              "    <tr>\n",
              "      <th>title</th>\n",
              "      <th></th>\n",
              "    </tr>\n",
              "  </thead>\n",
              "  <tbody>\n",
              "    <tr>\n",
              "      <th>'71 (2014)</th>\n",
              "      <td>4.0</td>\n",
              "    </tr>\n",
              "    <tr>\n",
              "      <th>'Hellboy': The Seeds of Creation (2004)</th>\n",
              "      <td>4.0</td>\n",
              "    </tr>\n",
              "    <tr>\n",
              "      <th>'Round Midnight (1986)</th>\n",
              "      <td>3.5</td>\n",
              "    </tr>\n",
              "    <tr>\n",
              "      <th>'Salem's Lot (2004)</th>\n",
              "      <td>5.0</td>\n",
              "    </tr>\n",
              "    <tr>\n",
              "      <th>'Til There Was You (1997)</th>\n",
              "      <td>4.0</td>\n",
              "    </tr>\n",
              "  </tbody>\n",
              "</table>\n",
              "</div>"
            ],
            "text/plain": [
              "                                         rating\n",
              "title                                          \n",
              "'71 (2014)                                  4.0\n",
              "'Hellboy': The Seeds of Creation (2004)     4.0\n",
              "'Round Midnight (1986)                      3.5\n",
              "'Salem's Lot (2004)                         5.0\n",
              "'Til There Was You (1997)                   4.0"
            ]
          },
          "metadata": {
            "tags": []
          },
          "execution_count": 29
        }
      ]
    },
    {
      "cell_type": "code",
      "metadata": {
        "id": "guxYIh5PDnq3",
        "colab_type": "code",
        "outputId": "867e987c-e10c-4b91-8b9b-67d1314795dd",
        "colab": {
          "base_uri": "https://localhost:8080/",
          "height": 450
        }
      },
      "source": [
        "top50 = mratings.sort_values(by=['rating'], ascending=False)[:100]\n",
        "top50"
      ],
      "execution_count": 30,
      "outputs": [
        {
          "output_type": "execute_result",
          "data": {
            "text/html": [
              "<div>\n",
              "<style scoped>\n",
              "    .dataframe tbody tr th:only-of-type {\n",
              "        vertical-align: middle;\n",
              "    }\n",
              "\n",
              "    .dataframe tbody tr th {\n",
              "        vertical-align: top;\n",
              "    }\n",
              "\n",
              "    .dataframe thead th {\n",
              "        text-align: right;\n",
              "    }\n",
              "</style>\n",
              "<table border=\"1\" class=\"dataframe\">\n",
              "  <thead>\n",
              "    <tr style=\"text-align: right;\">\n",
              "      <th></th>\n",
              "      <th>rating</th>\n",
              "    </tr>\n",
              "    <tr>\n",
              "      <th>title</th>\n",
              "      <th></th>\n",
              "    </tr>\n",
              "  </thead>\n",
              "  <tbody>\n",
              "    <tr>\n",
              "      <th>Gena the Crocodile (1969)</th>\n",
              "      <td>5.0</td>\n",
              "    </tr>\n",
              "    <tr>\n",
              "      <th>True Stories (1986)</th>\n",
              "      <td>5.0</td>\n",
              "    </tr>\n",
              "    <tr>\n",
              "      <th>Cosmic Scrat-tastrophe (2015)</th>\n",
              "      <td>5.0</td>\n",
              "    </tr>\n",
              "    <tr>\n",
              "      <th>Love and Pigeons (1985)</th>\n",
              "      <td>5.0</td>\n",
              "    </tr>\n",
              "    <tr>\n",
              "      <th>Red Sorghum (Hong gao liang) (1987)</th>\n",
              "      <td>5.0</td>\n",
              "    </tr>\n",
              "    <tr>\n",
              "      <th>...</th>\n",
              "      <td>...</td>\n",
              "    </tr>\n",
              "    <tr>\n",
              "      <th>Sisters (Syostry) (2001)</th>\n",
              "      <td>5.0</td>\n",
              "    </tr>\n",
              "    <tr>\n",
              "      <th>Wings, Legs and Tails (1986)</th>\n",
              "      <td>5.0</td>\n",
              "    </tr>\n",
              "    <tr>\n",
              "      <th>Winnie Pooh (1969)</th>\n",
              "      <td>5.0</td>\n",
              "    </tr>\n",
              "    <tr>\n",
              "      <th>Winnie the Pooh Goes Visiting (1971)</th>\n",
              "      <td>5.0</td>\n",
              "    </tr>\n",
              "    <tr>\n",
              "      <th>Winnie the Pooh and the Day of Concern (1972)</th>\n",
              "      <td>5.0</td>\n",
              "    </tr>\n",
              "  </tbody>\n",
              "</table>\n",
              "<p>100 rows × 1 columns</p>\n",
              "</div>"
            ],
            "text/plain": [
              "                                               rating\n",
              "title                                                \n",
              "Gena the Crocodile (1969)                         5.0\n",
              "True Stories (1986)                               5.0\n",
              "Cosmic Scrat-tastrophe (2015)                     5.0\n",
              "Love and Pigeons (1985)                           5.0\n",
              "Red Sorghum (Hong gao liang) (1987)               5.0\n",
              "...                                               ...\n",
              "Sisters (Syostry) (2001)                          5.0\n",
              "Wings, Legs and Tails (1986)                      5.0\n",
              "Winnie Pooh (1969)                                5.0\n",
              "Winnie the Pooh Goes Visiting (1971)              5.0\n",
              "Winnie the Pooh and the Day of Concern (1972)     5.0\n",
              "\n",
              "[100 rows x 1 columns]"
            ]
          },
          "metadata": {
            "tags": []
          },
          "execution_count": 30
        }
      ]
    },
    {
      "cell_type": "markdown",
      "metadata": {
        "id": "ArbuKUXepzow",
        "colab_type": "text"
      },
      "source": [
        "Many movies on MovieLens have received perfect scores."
      ]
    },
    {
      "cell_type": "markdown",
      "metadata": {
        "id": "V5DixfWDqB2w",
        "colab_type": "text"
      },
      "source": [
        "## Building a Recommender System"
      ]
    },
    {
      "cell_type": "code",
      "metadata": {
        "id": "sJhKEqY7Z2lY",
        "colab_type": "code",
        "colab": {}
      },
      "source": [
        "# Fit a Model using ALS\n",
        "from pyspark.ml.evaluation import RegressionEvaluator\n",
        "from pyspark.ml.recommendation import ALS\n",
        "\n",
        "# Split ratings into a training and a test set\n",
        "(training, test) = ratings.randomSplit([0.8, 0.2])\n",
        "\n",
        "# Build the recommendation model using ALS on the training data\n",
        "# Note we set cold start strategy to 'drop' to ensure we don't get NaN evaluation metrics\n",
        "als = ALS(maxIter=5,rank=4, regParam=0.01, userCol='userId', itemCol='movieId', ratingCol='rating',\n",
        "          coldStartStrategy='drop')\n",
        "\n",
        "# fit the ALS model to the training set\n",
        "model = als.fit(training)"
      ],
      "execution_count": 0,
      "outputs": []
    },
    {
      "cell_type": "code",
      "metadata": {
        "id": "vZwUM06hqAXF",
        "colab_type": "code",
        "outputId": "ca855f19-85b8-4629-fe42-f7c97b183f2e",
        "colab": {
          "base_uri": "https://localhost:8080/",
          "height": 34
        }
      },
      "source": [
        "# Evaluate the model\n",
        "from pyspark.ml.evaluation import RegressionEvaluator\n",
        "\n",
        "# Evaluate the model by computing the RMSE on the test data\n",
        "predictions = model.transform(test)\n",
        "evaluator = RegressionEvaluator(metricName='rmse', labelCol='rating',\n",
        "                                predictionCol='prediction')\n",
        "rmse = evaluator.evaluate(predictions)\n",
        "print('Root-mean-square error = ' + str(rmse))"
      ],
      "execution_count": 32,
      "outputs": [
        {
          "output_type": "stream",
          "text": [
            "Root-mean-square error = 1.0175846640369612\n"
          ],
          "name": "stdout"
        }
      ]
    },
    {
      "cell_type": "code",
      "metadata": {
        "id": "TaW14S_JqAaB",
        "colab_type": "code",
        "outputId": "5bd2dd7e-bf0b-4b8f-e4ba-78e930e3acba",
        "colab": {
          "base_uri": "https://localhost:8080/",
          "height": 34
        }
      },
      "source": [
        "# Use CrossValidation to find the optimal parameters for the ALS Model\n",
        "from pyspark.ml.tuning import CrossValidator, ParamGridBuilder\n",
        "\n",
        "# initialize the ALS model\n",
        "als_model = ALS(userCol='userId', itemCol='movieId', \n",
        "                ratingCol='rating', coldStartStrategy='drop')\n",
        "\n",
        "# create the parameter grid                 \n",
        "params = ParamGridBuilder()\\\n",
        "          .addGrid(als_model.regParam, [0.01, 0.001, 0.1])\\\n",
        "          .addGrid(als_model.rank, [4, 10, 50]).build()\n",
        "\n",
        "\n",
        "# instantiating crossvalidator estimator\n",
        "cv = CrossValidator(estimator=als_model, estimatorParamMaps=params,evaluator=evaluator,parallelism=4)\n",
        "best_model = cv.fit(ratings)    \n",
        "\n",
        "# Rank the best model\n",
        "best_model.bestModel.rank"
      ],
      "execution_count": 33,
      "outputs": [
        {
          "output_type": "execute_result",
          "data": {
            "text/plain": [
              "50"
            ]
          },
          "metadata": {
            "tags": []
          },
          "execution_count": 33
        }
      ]
    },
    {
      "cell_type": "code",
      "metadata": {
        "id": "Kd30HN4fqAfH",
        "colab_type": "code",
        "colab": {}
      },
      "source": [
        "# Build name retriever that retrieves movey name based on movieId\n",
        "def name_retriever(movie_id, movie_title_df):\n",
        "    return movie_title_df.where(movies.movieId == movie_id).take(1)[0]['title']"
      ],
      "execution_count": 0,
      "outputs": []
    },
    {
      "cell_type": "code",
      "metadata": {
        "id": "xVASvkWoqAiV",
        "colab_type": "code",
        "outputId": "19511fe3-5057-4f01-f4ce-b7f0c173e2b2",
        "colab": {
          "base_uri": "https://localhost:8080/",
          "height": 34
        }
      },
      "source": [
        "print(name_retriever(1023, movies))"
      ],
      "execution_count": 35,
      "outputs": [
        {
          "output_type": "stream",
          "text": [
            "Winnie the Pooh and the Blustery Day (1968)\n"
          ],
          "name": "stdout"
        }
      ]
    },
    {
      "cell_type": "markdown",
      "metadata": {
        "id": "SKh6doY8XWZW",
        "colab_type": "text"
      },
      "source": [
        "## Movie Recommendations"
      ]
    },
    {
      "cell_type": "code",
      "metadata": {
        "id": "mr9HTZsXqAnI",
        "colab_type": "code",
        "colab": {}
      },
      "source": [
        "users = ratings.select(als.getUserCol()).distinct().limit(1)\n",
        "userSubsetRecs = model.recommendForUserSubset(users, 10)\n",
        "recs = userSubsetRecs.take(1)"
      ],
      "execution_count": 0,
      "outputs": []
    },
    {
      "cell_type": "code",
      "metadata": {
        "id": "hZB-wmzIqAsN",
        "colab_type": "code",
        "outputId": "6bfcb830-232e-4721-898b-5f66a23c5eee",
        "colab": {
          "base_uri": "https://localhost:8080/",
          "height": 34
        }
      },
      "source": [
        "# use indexing to obtain the movie id of top predicted rated item\n",
        "first_recommendation = recs[0]['recommendations'][0][0]\n",
        "\n",
        "# use the name retriever function to get the values\n",
        "name_retriever(first_recommendation,movies)"
      ],
      "execution_count": 37,
      "outputs": [
        {
          "output_type": "execute_result",
          "data": {
            "text/plain": [
              "'The Conjuring 2 (2016)'"
            ]
          },
          "metadata": {
            "tags": []
          },
          "execution_count": 37
        }
      ]
    },
    {
      "cell_type": "code",
      "metadata": {
        "id": "IcNi1J8dqAqL",
        "colab_type": "code",
        "outputId": "a889dc49-d827-4e9f-f06e-5e706f7a9bd7",
        "colab": {
          "base_uri": "https://localhost:8080/",
          "height": 54
        }
      },
      "source": [
        "recommendations = model.recommendForAllUsers(5)\n",
        "recommendations.where(recommendations.userId == 3).collect()"
      ],
      "execution_count": 38,
      "outputs": [
        {
          "output_type": "execute_result",
          "data": {
            "text/plain": [
              "[Row(userId=3, recommendations=[Row(movieId=8199, rating=9.45022964477539), Row(movieId=3272, rating=9.328423500061035), Row(movieId=26258, rating=8.947259902954102), Row(movieId=4289, rating=8.630165100097656), Row(movieId=30, rating=8.545198440551758)])]"
            ]
          },
          "metadata": {
            "tags": []
          },
          "execution_count": 38
        }
      ]
    },
    {
      "cell_type": "code",
      "metadata": {
        "id": "YHdGdr35qAk9",
        "colab_type": "code",
        "colab": {}
      },
      "source": [
        "def new_user_recs(user_id, new_ratings, rating_df, movie_title_df, num_recs):\n",
        "    # turn the new_recommendations list into a spark DataFrame\n",
        "    new_user_ratings = spark.createDataFrame(new_ratings,rating_df.columns)\n",
        "    \n",
        "    # combine the new ratings df with the rating_df\n",
        "    movie_ratings_combined = rating_df.union(new_user_ratings)\n",
        "    \n",
        "    # split the dataframe into a train and test set\n",
        "    (training, test) = movie_ratings_combined.randomSplit([0.8, 0.2],seed=0)\n",
        "    \n",
        "    # create an ALS model and fit it\n",
        "    als = ALS(maxIter=5,rank=50, regParam=0.01, userCol=\"userId\", itemCol=\"movieId\", ratingCol=\"rating\",\n",
        "          coldStartStrategy=\"drop\")\n",
        "    model = als.fit(movie_ratings_combined)\n",
        "    \n",
        "    # make recommendations for all users using the recommendForAllUsers method\n",
        "    recommendations = model.recommendForAllUsers(num_recs)\n",
        "    \n",
        "    # get recommendations specifically for the new user that has been added to the DataFrame\n",
        "    recs_for_user = recommendations.where(recommendations.userId == user_id).take(1)\n",
        "    \n",
        "    for ranking, (movie_id, rating) in enumerate(recs_for_user[0]['recommendations']):\n",
        "        movie_string = name_retriever(movie_id,movie_title_df)\n",
        "        print('Recommendation {}: {}  | predicted score :{}'.format(ranking+1,movie_string,rating))"
      ],
      "execution_count": 0,
      "outputs": []
    },
    {
      "cell_type": "code",
      "metadata": {
        "id": "5_t0SBCKqAdZ",
        "colab_type": "code",
        "outputId": "a509821a-3666-477e-ed53-ad681d124299",
        "colab": {
          "base_uri": "https://localhost:8080/",
          "height": 102
        }
      },
      "source": [
        "user_id = 100000\n",
        "user_ratings_1 = [(user_id,3253,5),\n",
        "                  (user_id,2459,5),\n",
        "                  (user_id,2513,4),\n",
        "                  (user_id,6502,5),\n",
        "                  (user_id,1091,5),\n",
        "                  (user_id,441,4)]\n",
        "new_user_recs(user_id,\n",
        "             new_ratings=user_ratings_1,\n",
        "             rating_df=ratings,\n",
        "             movie_title_df=movies,\n",
        "             num_recs = 5)"
      ],
      "execution_count": 42,
      "outputs": [
        {
          "output_type": "stream",
          "text": [
            "Recommendation 1: Princess Bride, The (1987)  | predicted score :6.117940425872803\n",
            "Recommendation 2: Star Wars: Episode IV - A New Hope (1977)  | predicted score :5.991558074951172\n",
            "Recommendation 3: Star Wars: Episode V - The Empire Strikes Back (1980)  | predicted score :5.944335460662842\n",
            "Recommendation 4: Hot Fuzz (2007)  | predicted score :5.924807548522949\n",
            "Recommendation 5: Young Frankenstein (1974)  | predicted score :5.912320613861084\n"
          ],
          "name": "stdout"
        }
      ]
    },
    {
      "cell_type": "markdown",
      "metadata": {
        "id": "kIum-dzcmYK5",
        "colab_type": "text"
      },
      "source": [
        "## Modernizing the Rating System: Converting to Binary (Thumbs Up or Thumbs Down)"
      ]
    },
    {
      "cell_type": "code",
      "metadata": {
        "id": "PYKxltmH0Opi",
        "colab_type": "code",
        "colab": {}
      },
      "source": [
        "ratingsdf['binary_rating'] = np.zeros(shape=ratingsdf.shape[0])"
      ],
      "execution_count": 0,
      "outputs": []
    },
    {
      "cell_type": "code",
      "metadata": {
        "id": "_K3aSUNp8EYw",
        "colab_type": "code",
        "outputId": "1802d877-cec5-4170-b788-1869bb892a04",
        "colab": {
          "base_uri": "https://localhost:8080/",
          "height": 204
        }
      },
      "source": [
        "ratingsdf.head()"
      ],
      "execution_count": 0,
      "outputs": [
        {
          "output_type": "execute_result",
          "data": {
            "text/html": [
              "<div>\n",
              "<style scoped>\n",
              "    .dataframe tbody tr th:only-of-type {\n",
              "        vertical-align: middle;\n",
              "    }\n",
              "\n",
              "    .dataframe tbody tr th {\n",
              "        vertical-align: top;\n",
              "    }\n",
              "\n",
              "    .dataframe thead th {\n",
              "        text-align: right;\n",
              "    }\n",
              "</style>\n",
              "<table border=\"1\" class=\"dataframe\">\n",
              "  <thead>\n",
              "    <tr style=\"text-align: right;\">\n",
              "      <th></th>\n",
              "      <th>userId</th>\n",
              "      <th>movieId</th>\n",
              "      <th>rating</th>\n",
              "      <th>timestamp</th>\n",
              "      <th>binary_rating</th>\n",
              "    </tr>\n",
              "  </thead>\n",
              "  <tbody>\n",
              "    <tr>\n",
              "      <th>0</th>\n",
              "      <td>1</td>\n",
              "      <td>1</td>\n",
              "      <td>4.0</td>\n",
              "      <td>964982703</td>\n",
              "      <td>0.0</td>\n",
              "    </tr>\n",
              "    <tr>\n",
              "      <th>1</th>\n",
              "      <td>1</td>\n",
              "      <td>3</td>\n",
              "      <td>4.0</td>\n",
              "      <td>964981247</td>\n",
              "      <td>0.0</td>\n",
              "    </tr>\n",
              "    <tr>\n",
              "      <th>2</th>\n",
              "      <td>1</td>\n",
              "      <td>6</td>\n",
              "      <td>4.0</td>\n",
              "      <td>964982224</td>\n",
              "      <td>0.0</td>\n",
              "    </tr>\n",
              "    <tr>\n",
              "      <th>3</th>\n",
              "      <td>1</td>\n",
              "      <td>47</td>\n",
              "      <td>5.0</td>\n",
              "      <td>964983815</td>\n",
              "      <td>0.0</td>\n",
              "    </tr>\n",
              "    <tr>\n",
              "      <th>4</th>\n",
              "      <td>1</td>\n",
              "      <td>50</td>\n",
              "      <td>5.0</td>\n",
              "      <td>964982931</td>\n",
              "      <td>0.0</td>\n",
              "    </tr>\n",
              "  </tbody>\n",
              "</table>\n",
              "</div>"
            ],
            "text/plain": [
              "   userId  movieId  rating  timestamp  binary_rating\n",
              "0       1        1     4.0  964982703            0.0\n",
              "1       1        3     4.0  964981247            0.0\n",
              "2       1        6     4.0  964982224            0.0\n",
              "3       1       47     5.0  964983815            0.0\n",
              "4       1       50     5.0  964982931            0.0"
            ]
          },
          "metadata": {
            "tags": []
          },
          "execution_count": 47
        }
      ]
    },
    {
      "cell_type": "code",
      "metadata": {
        "id": "wXetbjte0O9W",
        "colab_type": "code",
        "outputId": "ec2e1ab3-b450-4bf3-d3f0-d757cf4c5816",
        "colab": {
          "base_uri": "https://localhost:8080/",
          "height": 419
        }
      },
      "source": [
        "ratingsdf.drop(columns='timestamp')"
      ],
      "execution_count": 0,
      "outputs": [
        {
          "output_type": "execute_result",
          "data": {
            "text/html": [
              "<div>\n",
              "<style scoped>\n",
              "    .dataframe tbody tr th:only-of-type {\n",
              "        vertical-align: middle;\n",
              "    }\n",
              "\n",
              "    .dataframe tbody tr th {\n",
              "        vertical-align: top;\n",
              "    }\n",
              "\n",
              "    .dataframe thead th {\n",
              "        text-align: right;\n",
              "    }\n",
              "</style>\n",
              "<table border=\"1\" class=\"dataframe\">\n",
              "  <thead>\n",
              "    <tr style=\"text-align: right;\">\n",
              "      <th></th>\n",
              "      <th>userId</th>\n",
              "      <th>movieId</th>\n",
              "      <th>rating</th>\n",
              "      <th>binary_rating</th>\n",
              "    </tr>\n",
              "  </thead>\n",
              "  <tbody>\n",
              "    <tr>\n",
              "      <th>0</th>\n",
              "      <td>1</td>\n",
              "      <td>1</td>\n",
              "      <td>4.0</td>\n",
              "      <td>0.0</td>\n",
              "    </tr>\n",
              "    <tr>\n",
              "      <th>1</th>\n",
              "      <td>1</td>\n",
              "      <td>3</td>\n",
              "      <td>4.0</td>\n",
              "      <td>0.0</td>\n",
              "    </tr>\n",
              "    <tr>\n",
              "      <th>2</th>\n",
              "      <td>1</td>\n",
              "      <td>6</td>\n",
              "      <td>4.0</td>\n",
              "      <td>0.0</td>\n",
              "    </tr>\n",
              "    <tr>\n",
              "      <th>3</th>\n",
              "      <td>1</td>\n",
              "      <td>47</td>\n",
              "      <td>5.0</td>\n",
              "      <td>0.0</td>\n",
              "    </tr>\n",
              "    <tr>\n",
              "      <th>4</th>\n",
              "      <td>1</td>\n",
              "      <td>50</td>\n",
              "      <td>5.0</td>\n",
              "      <td>0.0</td>\n",
              "    </tr>\n",
              "    <tr>\n",
              "      <th>...</th>\n",
              "      <td>...</td>\n",
              "      <td>...</td>\n",
              "      <td>...</td>\n",
              "      <td>...</td>\n",
              "    </tr>\n",
              "    <tr>\n",
              "      <th>100831</th>\n",
              "      <td>610</td>\n",
              "      <td>166534</td>\n",
              "      <td>4.0</td>\n",
              "      <td>0.0</td>\n",
              "    </tr>\n",
              "    <tr>\n",
              "      <th>100832</th>\n",
              "      <td>610</td>\n",
              "      <td>168248</td>\n",
              "      <td>5.0</td>\n",
              "      <td>0.0</td>\n",
              "    </tr>\n",
              "    <tr>\n",
              "      <th>100833</th>\n",
              "      <td>610</td>\n",
              "      <td>168250</td>\n",
              "      <td>5.0</td>\n",
              "      <td>0.0</td>\n",
              "    </tr>\n",
              "    <tr>\n",
              "      <th>100834</th>\n",
              "      <td>610</td>\n",
              "      <td>168252</td>\n",
              "      <td>5.0</td>\n",
              "      <td>0.0</td>\n",
              "    </tr>\n",
              "    <tr>\n",
              "      <th>100835</th>\n",
              "      <td>610</td>\n",
              "      <td>170875</td>\n",
              "      <td>3.0</td>\n",
              "      <td>0.0</td>\n",
              "    </tr>\n",
              "  </tbody>\n",
              "</table>\n",
              "<p>100836 rows × 4 columns</p>\n",
              "</div>"
            ],
            "text/plain": [
              "        userId  movieId  rating  binary_rating\n",
              "0            1        1     4.0            0.0\n",
              "1            1        3     4.0            0.0\n",
              "2            1        6     4.0            0.0\n",
              "3            1       47     5.0            0.0\n",
              "4            1       50     5.0            0.0\n",
              "...        ...      ...     ...            ...\n",
              "100831     610   166534     4.0            0.0\n",
              "100832     610   168248     5.0            0.0\n",
              "100833     610   168250     5.0            0.0\n",
              "100834     610   168252     5.0            0.0\n",
              "100835     610   170875     3.0            0.0\n",
              "\n",
              "[100836 rows x 4 columns]"
            ]
          },
          "metadata": {
            "tags": []
          },
          "execution_count": 48
        }
      ]
    },
    {
      "cell_type": "code",
      "metadata": {
        "id": "m5NHCs690Onz",
        "colab_type": "code",
        "colab": {}
      },
      "source": [
        "binary = []\n",
        "for i in ratingsdf.rating:\n",
        "    if i < 3:\n",
        "        binary.append(0)\n",
        "    else:\n",
        "        binary.append(1)\n",
        "ratingsdf.binary_rating = binary"
      ],
      "execution_count": 0,
      "outputs": []
    },
    {
      "cell_type": "code",
      "metadata": {
        "id": "JnhS6a2b0OmB",
        "colab_type": "code",
        "colab": {}
      },
      "source": [
        "ratingsdf.to_csv(\"../content/ratingsbinary.csv\")"
      ],
      "execution_count": 0,
      "outputs": []
    },
    {
      "cell_type": "code",
      "metadata": {
        "id": "_PJT4CQQ0OkD",
        "colab_type": "code",
        "colab": {}
      },
      "source": [
        "ratings2 = spark.read.csv('/content/ratingsbinary.csv', header='true', inferSchema='true')"
      ],
      "execution_count": 0,
      "outputs": []
    },
    {
      "cell_type": "code",
      "metadata": {
        "id": "XgQKvUiHDP4h",
        "colab_type": "code",
        "outputId": "0b651514-7fd9-4bd3-81d4-d586b955220f",
        "colab": {
          "base_uri": "https://localhost:8080/",
          "height": 51
        }
      },
      "source": [
        "ratings2.head(2)"
      ],
      "execution_count": 0,
      "outputs": [
        {
          "output_type": "execute_result",
          "data": {
            "text/plain": [
              "[Row(_c0=0, userId=1, movieId=1, rating=4.0, timestamp=964982703, binary_rating=1),\n",
              " Row(_c0=1, userId=1, movieId=3, rating=4.0, timestamp=964981247, binary_rating=1)]"
            ]
          },
          "metadata": {
            "tags": []
          },
          "execution_count": 52
        }
      ]
    },
    {
      "cell_type": "code",
      "metadata": {
        "id": "HUb4b69KCmAj",
        "colab_type": "code",
        "colab": {}
      },
      "source": [
        "#Drop Timestamp from ratings2\n",
        "ratings2 = ratings2.drop('timestamp')"
      ],
      "execution_count": 0,
      "outputs": []
    },
    {
      "cell_type": "code",
      "metadata": {
        "id": "1MyM7etMDNEW",
        "colab_type": "code",
        "colab": {}
      },
      "source": [
        "#Drop Timestamp from ratings2\n",
        "ratings2 = ratings2.drop('rating')"
      ],
      "execution_count": 0,
      "outputs": []
    },
    {
      "cell_type": "code",
      "metadata": {
        "id": "XRFaP65vFA3R",
        "colab_type": "code",
        "colab": {}
      },
      "source": [
        "#Drop Timestamp from ratings2\n",
        "ratings2 = ratings2.drop('_c0')"
      ],
      "execution_count": 0,
      "outputs": []
    },
    {
      "cell_type": "markdown",
      "metadata": {
        "id": "95P4oomP_RLD",
        "colab_type": "text"
      },
      "source": [
        "### Rebuilding the Model (with binary rating system)"
      ]
    },
    {
      "cell_type": "code",
      "metadata": {
        "id": "5rnRYbZd5avT",
        "colab_type": "code",
        "colab": {}
      },
      "source": [
        "# Split ratings into a training and a test set\n",
        "(training, test) = ratings2.randomSplit([0.8, 0.2])\n",
        "\n",
        "# Build the recommendation model using ALS on the training data\n",
        "# Note we set cold start strategy to 'drop' to ensure we don't get NaN evaluation metrics\n",
        "als = ALS(maxIter=5,rank=4, regParam=0.01, userCol='userId', itemCol='movieId', ratingCol='binary_rating',\n",
        "          coldStartStrategy='drop')\n",
        "\n",
        "# fit the ALS model to the training set\n",
        "model = als.fit(training)"
      ],
      "execution_count": 0,
      "outputs": []
    },
    {
      "cell_type": "code",
      "metadata": {
        "id": "4JlS7Xzk5bAy",
        "colab_type": "code",
        "outputId": "baec563c-2ed8-4d25-a218-cc703ea0cc3a",
        "colab": {
          "base_uri": "https://localhost:8080/",
          "height": 34
        }
      },
      "source": [
        "# Evaluate the model by computing the RMSE on the test data\n",
        "predictions = model.transform(test)\n",
        "evaluator = RegressionEvaluator(metricName='rmse', labelCol='binary_rating',\n",
        "                                predictionCol='prediction')\n",
        "rmse = evaluator.evaluate(predictions)\n",
        "print('Root-mean-square error = ' + str(rmse))"
      ],
      "execution_count": 0,
      "outputs": [
        {
          "output_type": "stream",
          "text": [
            "Root-mean-square error = 0.40316882331441833\n"
          ],
          "name": "stdout"
        }
      ]
    },
    {
      "cell_type": "code",
      "metadata": {
        "id": "JP1gQNXt5bRt",
        "colab_type": "code",
        "outputId": "863a712b-63f4-41cb-be04-547c41f3716e",
        "colab": {
          "base_uri": "https://localhost:8080/",
          "height": 34
        }
      },
      "source": [
        "# initialize the ALS model\n",
        "als_model = ALS(userCol='userId', itemCol='movieId', \n",
        "                ratingCol='binary_rating', coldStartStrategy='drop')\n",
        "\n",
        "# create the parameter grid                 \n",
        "params = ParamGridBuilder()\\\n",
        "          .addGrid(als_model.regParam, [0.01, 0.001, 0.1])\\\n",
        "          .addGrid(als_model.rank, [4, 10, 50]).build()\n",
        "\n",
        "\n",
        "# instantiating crossvalidator estimator\n",
        "cv = CrossValidator(estimator=als_model, estimatorParamMaps=params,evaluator=evaluator,parallelism=4)\n",
        "best_model = cv.fit(ratings2)    \n",
        "\n",
        "# Rank the best model\n",
        "best_model.bestModel.rank"
      ],
      "execution_count": 0,
      "outputs": [
        {
          "output_type": "execute_result",
          "data": {
            "text/plain": [
              "50"
            ]
          },
          "metadata": {
            "tags": []
          },
          "execution_count": 58
        }
      ]
    },
    {
      "cell_type": "markdown",
      "metadata": {
        "id": "UFAFcfzqDbHx",
        "colab_type": "text"
      },
      "source": [
        "### Movie Recommendation System II"
      ]
    },
    {
      "cell_type": "code",
      "metadata": {
        "id": "MlyAnOxJ5bhM",
        "colab_type": "code",
        "colab": {}
      },
      "source": [
        "users = ratings2.select(als.getUserCol()).distinct().limit(1)\n",
        "userSubsetRecs = model.recommendForUserSubset(users, 10)\n",
        "recs = userSubsetRecs.take(1)"
      ],
      "execution_count": 0,
      "outputs": []
    },
    {
      "cell_type": "code",
      "metadata": {
        "id": "HKYD6otS5brg",
        "colab_type": "code",
        "outputId": "ac2ee2b7-3849-4783-9f82-7e7e17d565b9",
        "colab": {
          "base_uri": "https://localhost:8080/",
          "height": 34
        }
      },
      "source": [
        "# use indexing to obtain the movie id of top predicted rated item\n",
        "first_recommendation = recs[0]['recommendations'][0][0]\n",
        "\n",
        "# use the name retriever function to get the values\n",
        "name_retriever(first_recommendation,movies)"
      ],
      "execution_count": 0,
      "outputs": [
        {
          "output_type": "execute_result",
          "data": {
            "text/plain": [
              "'Air Bud (1997)'"
            ]
          },
          "metadata": {
            "tags": []
          },
          "execution_count": 60
        }
      ]
    },
    {
      "cell_type": "code",
      "metadata": {
        "id": "SYGKtL0x5bp8",
        "colab_type": "code",
        "outputId": "c9aa6ac3-0d9f-4623-d9d4-573929f73f1d",
        "colab": {
          "base_uri": "https://localhost:8080/",
          "height": 54
        }
      },
      "source": [
        "recommendations = model.recommendForAllUsers(5)\n",
        "recommendations.where(recommendations.userId == 3).collect()"
      ],
      "execution_count": 0,
      "outputs": [
        {
          "output_type": "execute_result",
          "data": {
            "text/plain": [
              "[Row(userId=3, recommendations=[Row(movieId=8253, rating=2.400397539138794), Row(movieId=2263, rating=2.3073976039886475), Row(movieId=3794, rating=2.116691827774048), Row(movieId=46967, rating=2.0073180198669434), Row(movieId=78039, rating=1.9372708797454834)])]"
            ]
          },
          "metadata": {
            "tags": []
          },
          "execution_count": 61
        }
      ]
    },
    {
      "cell_type": "code",
      "metadata": {
        "id": "JTzj5ELX5boT",
        "colab_type": "code",
        "colab": {}
      },
      "source": [
        "def new_user_recs(user_id, new_ratings, rating_df, movie_title_df, num_recs):\n",
        "    # turn the new_recommendations list into a spark DataFrame\n",
        "    print('creating dictionary')\n",
        "    print(new_ratings)\n",
        "    print(rating_df['userId', 'movieId', 'binary_rating'].columns)\n",
        "    new_user_ratings = spark.createDataFrame(new_ratings,rating_df.columns)\n",
        "    print(new_user_ratings)\n",
        "    # combine the new ratings df with the rating_df\n",
        "    movie_ratings_combined = rating_df.union(new_user_ratings)\n",
        "    print(movie_ratings_combined)\n",
        "    # split the dataframe into a train and test set\n",
        "    (training, test) = movie_ratings_combined.randomSplit([0.8, 0.2],seed=0)\n",
        "    \n",
        "    # create an ALS model and fit it\n",
        "    als = ALS(maxIter=5,rank=50, regParam=0.01, userCol=\"userId\", itemCol=\"movieId\", ratingCol=\"binary_rating\",\n",
        "          coldStartStrategy=\"drop\")\n",
        "    model = als.fit(movie_ratings_combined)\n",
        "    print('created model')\n",
        "    # make recommendations for all users using the recommendForAllUsers method\n",
        "    recommendations = model.recommendForAllUsers(num_recs)\n",
        "    print('recom')\n",
        "    # get recommendations specifically for the new user that has been added to the DataFrame\n",
        "    recs_for_user = recommendations.where(recommendations.userId == user_id).take(1)\n",
        "    \n",
        "    for ranking, (movie_id, rating) in enumerate(recs_for_user[0]['recommendations']):\n",
        "        movie_string = name_retriever(movie_id,movie_title_df)\n",
        "        print('Recommendation {}: {}  | predicted score :{}'.format(ranking+1,movie_string,rating))"
      ],
      "execution_count": 0,
      "outputs": []
    },
    {
      "cell_type": "code",
      "metadata": {
        "id": "uwj2wXKJ5blp",
        "colab_type": "code",
        "outputId": "318113a9-e0a9-4b9f-c2d9-83cbf8fd7df8",
        "colab": {
          "base_uri": "https://localhost:8080/",
          "height": 221
        }
      },
      "source": [
        "user_id = 100000\n",
        "user_ratings_1 = [(user_id,3253,1),\n",
        "                  (user_id,2459,1),\n",
        "                  (user_id,2513,1),\n",
        "                  (user_id,6502,1),\n",
        "                  (user_id,1091,1),\n",
        "                  (user_id,441,1)]\n",
        "new_user_recs(user_id,\n",
        "             new_ratings=user_ratings_1,\n",
        "             rating_df=ratings2,\n",
        "             movie_title_df=movies,\n",
        "             num_recs = 5)"
      ],
      "execution_count": 0,
      "outputs": [
        {
          "output_type": "stream",
          "text": [
            "creating dictionary\n",
            "[(100000, 3253, 1), (100000, 2459, 1), (100000, 2513, 1), (100000, 6502, 1), (100000, 1091, 1), (100000, 441, 1)]\n",
            "['userId', 'movieId', 'binary_rating']\n",
            "DataFrame[userId: bigint, movieId: bigint, binary_rating: bigint]\n",
            "DataFrame[userId: bigint, movieId: bigint, binary_rating: bigint]\n",
            "created model\n",
            "recom\n",
            "Recommendation 1: Big (1988)  | predicted score :1.1319564580917358\n",
            "Recommendation 2: Beautiful Mind, A (2001)  | predicted score :1.1246521472930908\n",
            "Recommendation 3: Silence of the Lambs, The (1991)  | predicted score :1.1188836097717285\n",
            "Recommendation 4: Shining, The (1980)  | predicted score :1.1186461448669434\n",
            "Recommendation 5: Finding Nemo (2003)  | predicted score :1.114668846130371\n"
          ],
          "name": "stdout"
        }
      ]
    }
  ]
}